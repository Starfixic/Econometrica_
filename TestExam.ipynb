{
 "cells": [
  {
   "cell_type": "code",
   "execution_count": 71,
   "id": "e9099c41",
   "metadata": {},
   "outputs": [],
   "source": [
    "import numpy as np\n",
    "import pandas as pd\n",
    "import statsmodels.formula.api as smf\n",
    "import statsmodels.api as sm\n",
    "from statsmodels.tools import add_constant\n",
    "from statsmodels.iolib.summary2 import summary_col, summary_params\n",
    "from scipy.stats import norm \n",
    "from scipy.stats import chi2\n",
    "import seaborn as sns\n",
    "\n",
    "#Не показывать FutureWarnings \n",
    "import warnings\n",
    "warnings.simplefilter(action='ignore', category=FutureWarning)"
   ]
  },
  {
   "cell_type": "code",
   "execution_count": 6,
   "id": "9a7b2181",
   "metadata": {},
   "outputs": [
    {
     "data": {
      "text/html": [
       "<div>\n",
       "<style scoped>\n",
       "    .dataframe tbody tr th:only-of-type {\n",
       "        vertical-align: middle;\n",
       "    }\n",
       "\n",
       "    .dataframe tbody tr th {\n",
       "        vertical-align: top;\n",
       "    }\n",
       "\n",
       "    .dataframe thead th {\n",
       "        text-align: right;\n",
       "    }\n",
       "</style>\n",
       "<table border=\"1\" class=\"dataframe\">\n",
       "  <thead>\n",
       "    <tr style=\"text-align: right;\">\n",
       "      <th></th>\n",
       "      <th>LFP</th>\n",
       "      <th>WHRS</th>\n",
       "      <th>KL6</th>\n",
       "      <th>K618</th>\n",
       "      <th>WA</th>\n",
       "      <th>WE</th>\n",
       "      <th>WW</th>\n",
       "      <th>RPWG</th>\n",
       "      <th>HHRS</th>\n",
       "      <th>HA</th>\n",
       "      <th>HE</th>\n",
       "      <th>HW</th>\n",
       "      <th>FAMINC</th>\n",
       "      <th>MTR</th>\n",
       "      <th>WMED</th>\n",
       "      <th>WFED</th>\n",
       "      <th>UN</th>\n",
       "      <th>CIT</th>\n",
       "      <th>AX</th>\n",
       "    </tr>\n",
       "  </thead>\n",
       "  <tbody>\n",
       "    <tr>\n",
       "      <th>0</th>\n",
       "      <td>1</td>\n",
       "      <td>1610</td>\n",
       "      <td>1</td>\n",
       "      <td>0</td>\n",
       "      <td>32</td>\n",
       "      <td>12</td>\n",
       "      <td>3.3540</td>\n",
       "      <td>2.65</td>\n",
       "      <td>2708</td>\n",
       "      <td>34</td>\n",
       "      <td>12</td>\n",
       "      <td>4.0288</td>\n",
       "      <td>16310</td>\n",
       "      <td>0.7215</td>\n",
       "      <td>12</td>\n",
       "      <td>7</td>\n",
       "      <td>5.0</td>\n",
       "      <td>0</td>\n",
       "      <td>14</td>\n",
       "    </tr>\n",
       "    <tr>\n",
       "      <th>1</th>\n",
       "      <td>1</td>\n",
       "      <td>1656</td>\n",
       "      <td>0</td>\n",
       "      <td>2</td>\n",
       "      <td>30</td>\n",
       "      <td>12</td>\n",
       "      <td>1.3889</td>\n",
       "      <td>2.65</td>\n",
       "      <td>2310</td>\n",
       "      <td>30</td>\n",
       "      <td>9</td>\n",
       "      <td>8.4416</td>\n",
       "      <td>21800</td>\n",
       "      <td>0.6615</td>\n",
       "      <td>7</td>\n",
       "      <td>7</td>\n",
       "      <td>11.0</td>\n",
       "      <td>1</td>\n",
       "      <td>5</td>\n",
       "    </tr>\n",
       "    <tr>\n",
       "      <th>2</th>\n",
       "      <td>1</td>\n",
       "      <td>1980</td>\n",
       "      <td>1</td>\n",
       "      <td>3</td>\n",
       "      <td>35</td>\n",
       "      <td>12</td>\n",
       "      <td>4.5455</td>\n",
       "      <td>4.04</td>\n",
       "      <td>3072</td>\n",
       "      <td>40</td>\n",
       "      <td>12</td>\n",
       "      <td>3.5807</td>\n",
       "      <td>21040</td>\n",
       "      <td>0.6915</td>\n",
       "      <td>12</td>\n",
       "      <td>7</td>\n",
       "      <td>5.0</td>\n",
       "      <td>0</td>\n",
       "      <td>15</td>\n",
       "    </tr>\n",
       "    <tr>\n",
       "      <th>3</th>\n",
       "      <td>1</td>\n",
       "      <td>456</td>\n",
       "      <td>0</td>\n",
       "      <td>3</td>\n",
       "      <td>34</td>\n",
       "      <td>12</td>\n",
       "      <td>1.0965</td>\n",
       "      <td>3.25</td>\n",
       "      <td>1920</td>\n",
       "      <td>53</td>\n",
       "      <td>10</td>\n",
       "      <td>3.5417</td>\n",
       "      <td>7300</td>\n",
       "      <td>0.7815</td>\n",
       "      <td>7</td>\n",
       "      <td>7</td>\n",
       "      <td>5.0</td>\n",
       "      <td>0</td>\n",
       "      <td>6</td>\n",
       "    </tr>\n",
       "    <tr>\n",
       "      <th>4</th>\n",
       "      <td>1</td>\n",
       "      <td>1568</td>\n",
       "      <td>1</td>\n",
       "      <td>2</td>\n",
       "      <td>31</td>\n",
       "      <td>14</td>\n",
       "      <td>4.5918</td>\n",
       "      <td>3.60</td>\n",
       "      <td>2000</td>\n",
       "      <td>32</td>\n",
       "      <td>12</td>\n",
       "      <td>10.0000</td>\n",
       "      <td>27300</td>\n",
       "      <td>0.6215</td>\n",
       "      <td>12</td>\n",
       "      <td>14</td>\n",
       "      <td>9.5</td>\n",
       "      <td>1</td>\n",
       "      <td>7</td>\n",
       "    </tr>\n",
       "    <tr>\n",
       "      <th>...</th>\n",
       "      <td>...</td>\n",
       "      <td>...</td>\n",
       "      <td>...</td>\n",
       "      <td>...</td>\n",
       "      <td>...</td>\n",
       "      <td>...</td>\n",
       "      <td>...</td>\n",
       "      <td>...</td>\n",
       "      <td>...</td>\n",
       "      <td>...</td>\n",
       "      <td>...</td>\n",
       "      <td>...</td>\n",
       "      <td>...</td>\n",
       "      <td>...</td>\n",
       "      <td>...</td>\n",
       "      <td>...</td>\n",
       "      <td>...</td>\n",
       "      <td>...</td>\n",
       "      <td>...</td>\n",
       "    </tr>\n",
       "    <tr>\n",
       "      <th>748</th>\n",
       "      <td>0</td>\n",
       "      <td>0</td>\n",
       "      <td>0</td>\n",
       "      <td>2</td>\n",
       "      <td>40</td>\n",
       "      <td>13</td>\n",
       "      <td>0.0000</td>\n",
       "      <td>0.00</td>\n",
       "      <td>3020</td>\n",
       "      <td>43</td>\n",
       "      <td>16</td>\n",
       "      <td>9.2715</td>\n",
       "      <td>28200</td>\n",
       "      <td>0.6215</td>\n",
       "      <td>10</td>\n",
       "      <td>10</td>\n",
       "      <td>9.5</td>\n",
       "      <td>1</td>\n",
       "      <td>5</td>\n",
       "    </tr>\n",
       "    <tr>\n",
       "      <th>749</th>\n",
       "      <td>0</td>\n",
       "      <td>0</td>\n",
       "      <td>2</td>\n",
       "      <td>3</td>\n",
       "      <td>31</td>\n",
       "      <td>12</td>\n",
       "      <td>0.0000</td>\n",
       "      <td>0.00</td>\n",
       "      <td>2056</td>\n",
       "      <td>33</td>\n",
       "      <td>12</td>\n",
       "      <td>4.8638</td>\n",
       "      <td>10000</td>\n",
       "      <td>0.7715</td>\n",
       "      <td>12</td>\n",
       "      <td>12</td>\n",
       "      <td>7.5</td>\n",
       "      <td>0</td>\n",
       "      <td>14</td>\n",
       "    </tr>\n",
       "    <tr>\n",
       "      <th>750</th>\n",
       "      <td>0</td>\n",
       "      <td>0</td>\n",
       "      <td>0</td>\n",
       "      <td>0</td>\n",
       "      <td>43</td>\n",
       "      <td>12</td>\n",
       "      <td>0.0000</td>\n",
       "      <td>0.00</td>\n",
       "      <td>2383</td>\n",
       "      <td>43</td>\n",
       "      <td>12</td>\n",
       "      <td>1.0898</td>\n",
       "      <td>9952</td>\n",
       "      <td>0.7515</td>\n",
       "      <td>10</td>\n",
       "      <td>3</td>\n",
       "      <td>7.5</td>\n",
       "      <td>0</td>\n",
       "      <td>4</td>\n",
       "    </tr>\n",
       "    <tr>\n",
       "      <th>751</th>\n",
       "      <td>0</td>\n",
       "      <td>0</td>\n",
       "      <td>0</td>\n",
       "      <td>0</td>\n",
       "      <td>60</td>\n",
       "      <td>12</td>\n",
       "      <td>0.0000</td>\n",
       "      <td>0.00</td>\n",
       "      <td>1705</td>\n",
       "      <td>55</td>\n",
       "      <td>8</td>\n",
       "      <td>12.4400</td>\n",
       "      <td>24984</td>\n",
       "      <td>0.6215</td>\n",
       "      <td>12</td>\n",
       "      <td>12</td>\n",
       "      <td>14.0</td>\n",
       "      <td>1</td>\n",
       "      <td>15</td>\n",
       "    </tr>\n",
       "    <tr>\n",
       "      <th>752</th>\n",
       "      <td>0</td>\n",
       "      <td>0</td>\n",
       "      <td>0</td>\n",
       "      <td>3</td>\n",
       "      <td>39</td>\n",
       "      <td>9</td>\n",
       "      <td>0.0000</td>\n",
       "      <td>0.00</td>\n",
       "      <td>3120</td>\n",
       "      <td>48</td>\n",
       "      <td>12</td>\n",
       "      <td>6.0897</td>\n",
       "      <td>28363</td>\n",
       "      <td>0.6915</td>\n",
       "      <td>7</td>\n",
       "      <td>7</td>\n",
       "      <td>11.0</td>\n",
       "      <td>1</td>\n",
       "      <td>12</td>\n",
       "    </tr>\n",
       "  </tbody>\n",
       "</table>\n",
       "<p>753 rows × 19 columns</p>\n",
       "</div>"
      ],
      "text/plain": [
       "     LFP  WHRS  KL6  K618  WA  WE      WW  RPWG  HHRS  HA  HE       HW  \\\n",
       "0      1  1610    1     0  32  12  3.3540  2.65  2708  34  12   4.0288   \n",
       "1      1  1656    0     2  30  12  1.3889  2.65  2310  30   9   8.4416   \n",
       "2      1  1980    1     3  35  12  4.5455  4.04  3072  40  12   3.5807   \n",
       "3      1   456    0     3  34  12  1.0965  3.25  1920  53  10   3.5417   \n",
       "4      1  1568    1     2  31  14  4.5918  3.60  2000  32  12  10.0000   \n",
       "..   ...   ...  ...   ...  ..  ..     ...   ...   ...  ..  ..      ...   \n",
       "748    0     0    0     2  40  13  0.0000  0.00  3020  43  16   9.2715   \n",
       "749    0     0    2     3  31  12  0.0000  0.00  2056  33  12   4.8638   \n",
       "750    0     0    0     0  43  12  0.0000  0.00  2383  43  12   1.0898   \n",
       "751    0     0    0     0  60  12  0.0000  0.00  1705  55   8  12.4400   \n",
       "752    0     0    0     3  39   9  0.0000  0.00  3120  48  12   6.0897   \n",
       "\n",
       "     FAMINC     MTR  WMED  WFED    UN  CIT  AX   \n",
       "0     16310  0.7215    12     7   5.0    0   14  \n",
       "1     21800  0.6615     7     7  11.0    1    5  \n",
       "2     21040  0.6915    12     7   5.0    0   15  \n",
       "3      7300  0.7815     7     7   5.0    0    6  \n",
       "4     27300  0.6215    12    14   9.5    1    7  \n",
       "..      ...     ...   ...   ...   ...  ...  ...  \n",
       "748   28200  0.6215    10    10   9.5    1    5  \n",
       "749   10000  0.7715    12    12   7.5    0   14  \n",
       "750    9952  0.7515    10     3   7.5    0    4  \n",
       "751   24984  0.6215    12    12  14.0    1   15  \n",
       "752   28363  0.6915     7     7  11.0    1   12  \n",
       "\n",
       "[753 rows x 19 columns]"
      ]
     },
     "execution_count": 6,
     "metadata": {},
     "output_type": "execute_result"
    }
   ],
   "source": [
    "df = pd.read_csv('TableF5-1.csv')\n",
    "df"
   ]
  },
  {
   "cell_type": "code",
   "execution_count": 8,
   "id": "d2629dc2",
   "metadata": {},
   "outputs": [
    {
     "name": "stdout",
     "output_type": "stream",
     "text": [
      "Optimization terminated successfully.\n",
      "         Current function value: 0.666964\n",
      "         Iterations 4\n"
     ]
    }
   ],
   "source": [
    "mod1=smf.probit(formula='LFP~WA+I(WA**2)+CIT+UN+np.log(FAMINC)', data=df) #спецификация модели\n",
    "res1=mod1.fit() #подгонка модели"
   ]
  },
  {
   "cell_type": "code",
   "execution_count": 17,
   "id": "07bde52e",
   "metadata": {},
   "outputs": [
    {
     "data": {
      "text/html": [
       "<table class=\"simpletable\">\n",
       "<caption>Probit Regression Results</caption>\n",
       "<tr>\n",
       "  <th>Dep. Variable:</th>          <td>LFP</td>       <th>  No. Observations:  </th>  <td>   753</td>  \n",
       "</tr>\n",
       "<tr>\n",
       "  <th>Model:</th>                <td>Probit</td>      <th>  Df Residuals:      </th>  <td>   747</td>  \n",
       "</tr>\n",
       "<tr>\n",
       "  <th>Method:</th>                 <td>MLE</td>       <th>  Df Model:          </th>  <td>     5</td>  \n",
       "</tr>\n",
       "<tr>\n",
       "  <th>Date:</th>            <td>Thu, 18 Jan 2024</td> <th>  Pseudo R-squ.:     </th>  <td>0.02457</td> \n",
       "</tr>\n",
       "<tr>\n",
       "  <th>Time:</th>                <td>19:18:40</td>     <th>  Log-Likelihood:    </th> <td> -502.22</td> \n",
       "</tr>\n",
       "<tr>\n",
       "  <th>converged:</th>             <td>True</td>       <th>  LL-Null:           </th> <td> -514.87</td> \n",
       "</tr>\n",
       "<tr>\n",
       "  <th>Covariance Type:</th>     <td>nonrobust</td>    <th>  LLR p-value:       </th> <td>0.0001220</td>\n",
       "</tr>\n",
       "</table>\n",
       "<table class=\"simpletable\">\n",
       "<tr>\n",
       "         <td></td>           <th>coef</th>     <th>std err</th>      <th>z</th>      <th>P>|z|</th>  <th>[0.025</th>    <th>0.975]</th>  \n",
       "</tr>\n",
       "<tr>\n",
       "  <th>Intercept</th>      <td>   -5.2366</td> <td>    1.555</td> <td>   -3.367</td> <td> 0.001</td> <td>   -8.285</td> <td>   -2.188</td>\n",
       "</tr>\n",
       "<tr>\n",
       "  <th>WA</th>             <td>    0.1084</td> <td>    0.063</td> <td>    1.714</td> <td> 0.087</td> <td>   -0.016</td> <td>    0.232</td>\n",
       "</tr>\n",
       "<tr>\n",
       "  <th>I(WA ** 2)</th>     <td>   -0.0014</td> <td>    0.001</td> <td>   -1.929</td> <td> 0.054</td> <td>   -0.003</td> <td> 2.23e-05</td>\n",
       "</tr>\n",
       "<tr>\n",
       "  <th>CIT</th>            <td>   -0.1026</td> <td>    0.103</td> <td>   -0.997</td> <td> 0.319</td> <td>   -0.304</td> <td>    0.099</td>\n",
       "</tr>\n",
       "<tr>\n",
       "  <th>UN</th>             <td>   -0.0101</td> <td>    0.015</td> <td>   -0.669</td> <td> 0.503</td> <td>   -0.040</td> <td>    0.020</td>\n",
       "</tr>\n",
       "<tr>\n",
       "  <th>np.log(FAMINC)</th> <td>    0.3621</td> <td>    0.095</td> <td>    3.830</td> <td> 0.000</td> <td>    0.177</td> <td>    0.547</td>\n",
       "</tr>\n",
       "</table>"
      ],
      "text/latex": [
       "\\begin{center}\n",
       "\\begin{tabular}{lclc}\n",
       "\\toprule\n",
       "\\textbf{Dep. Variable:}   &       LFP        & \\textbf{  No. Observations:  } &      753    \\\\\n",
       "\\textbf{Model:}           &      Probit      & \\textbf{  Df Residuals:      } &      747    \\\\\n",
       "\\textbf{Method:}          &       MLE        & \\textbf{  Df Model:          } &        5    \\\\\n",
       "\\textbf{Date:}            & Thu, 18 Jan 2024 & \\textbf{  Pseudo R-squ.:     } &  0.02457    \\\\\n",
       "\\textbf{Time:}            &     19:18:40     & \\textbf{  Log-Likelihood:    } &   -502.22   \\\\\n",
       "\\textbf{converged:}       &       True       & \\textbf{  LL-Null:           } &   -514.87   \\\\\n",
       "\\textbf{Covariance Type:} &    nonrobust     & \\textbf{  LLR p-value:       } & 0.0001220   \\\\\n",
       "\\bottomrule\n",
       "\\end{tabular}\n",
       "\\begin{tabular}{lcccccc}\n",
       "                        & \\textbf{coef} & \\textbf{std err} & \\textbf{z} & \\textbf{P$> |$z$|$} & \\textbf{[0.025} & \\textbf{0.975]}  \\\\\n",
       "\\midrule\n",
       "\\textbf{Intercept}      &      -5.2366  &        1.555     &    -3.367  &         0.001        &       -8.285    &       -2.188     \\\\\n",
       "\\textbf{WA}             &       0.1084  &        0.063     &     1.714  &         0.087        &       -0.016    &        0.232     \\\\\n",
       "\\textbf{I(WA ** 2)}     &      -0.0014  &        0.001     &    -1.929  &         0.054        &       -0.003    &     2.23e-05     \\\\\n",
       "\\textbf{CIT}            &      -0.1026  &        0.103     &    -0.997  &         0.319        &       -0.304    &        0.099     \\\\\n",
       "\\textbf{UN}             &      -0.0101  &        0.015     &    -0.669  &         0.503        &       -0.040    &        0.020     \\\\\n",
       "\\textbf{np.log(FAMINC)} &       0.3621  &        0.095     &     3.830  &         0.000        &        0.177    &        0.547     \\\\\n",
       "\\bottomrule\n",
       "\\end{tabular}\n",
       "%\\caption{Probit Regression Results}\n",
       "\\end{center}"
      ],
      "text/plain": [
       "<class 'statsmodels.iolib.summary.Summary'>\n",
       "\"\"\"\n",
       "                          Probit Regression Results                           \n",
       "==============================================================================\n",
       "Dep. Variable:                    LFP   No. Observations:                  753\n",
       "Model:                         Probit   Df Residuals:                      747\n",
       "Method:                           MLE   Df Model:                            5\n",
       "Date:                Thu, 18 Jan 2024   Pseudo R-squ.:                 0.02457\n",
       "Time:                        19:18:40   Log-Likelihood:                -502.22\n",
       "converged:                       True   LL-Null:                       -514.87\n",
       "Covariance Type:            nonrobust   LLR p-value:                 0.0001220\n",
       "==================================================================================\n",
       "                     coef    std err          z      P>|z|      [0.025      0.975]\n",
       "----------------------------------------------------------------------------------\n",
       "Intercept         -5.2366      1.555     -3.367      0.001      -8.285      -2.188\n",
       "WA                 0.1084      0.063      1.714      0.087      -0.016       0.232\n",
       "I(WA ** 2)        -0.0014      0.001     -1.929      0.054      -0.003    2.23e-05\n",
       "CIT               -0.1026      0.103     -0.997      0.319      -0.304       0.099\n",
       "UN                -0.0101      0.015     -0.669      0.503      -0.040       0.020\n",
       "np.log(FAMINC)     0.3621      0.095      3.830      0.000       0.177       0.547\n",
       "==================================================================================\n",
       "\"\"\""
      ]
     },
     "execution_count": 17,
     "metadata": {},
     "output_type": "execute_result"
    }
   ],
   "source": [
    "res1.summary()"
   ]
  },
  {
   "cell_type": "code",
   "execution_count": 18,
   "id": "81dbefb1",
   "metadata": {},
   "outputs": [
    {
     "data": {
      "text/plain": [
       "Intercept        -5.24\n",
       "WA                0.11\n",
       "I(WA ** 2)       -0.00\n",
       "CIT              -0.10\n",
       "UN               -0.01\n",
       "np.log(FAMINC)    0.36\n",
       "dtype: float64"
      ]
     },
     "execution_count": 18,
     "metadata": {},
     "output_type": "execute_result"
    }
   ],
   "source": [
    "res1.params.round(2)"
   ]
  },
  {
   "cell_type": "raw",
   "id": "39acd424",
   "metadata": {},
   "source": [
    "так как модель probit, то интерпретируется только знак при коэффициенте. При параметре UN отрицательный знак, что значит увеличение данного коэффциента обратно влияет на вероятность успеха (уменьшается)."
   ]
  },
  {
   "cell_type": "code",
   "execution_count": 29,
   "id": "6d1e2b49",
   "metadata": {},
   "outputs": [
    {
     "name": "stdout",
     "output_type": "stream",
     "text": [
      "Optimization terminated successfully.\n",
      "         Current function value: 0.666964\n",
      "         Iterations 4\n"
     ]
    }
   ],
   "source": [
    "mod2 = smf.probit(formula='LFP~WA+I(WA**2)+CIT+UN+np.log(FAMINC)', data=df)\n",
    "res2 = mod2.fit()"
   ]
  },
  {
   "cell_type": "code",
   "execution_count": 30,
   "id": "df80b154",
   "metadata": {},
   "outputs": [
    {
     "data": {
      "text/html": [
       "<table class=\"simpletable\">\n",
       "<caption>Probit Regression Results</caption>\n",
       "<tr>\n",
       "  <th>Dep. Variable:</th>          <td>LFP</td>       <th>  No. Observations:  </th>  <td>   753</td>  \n",
       "</tr>\n",
       "<tr>\n",
       "  <th>Model:</th>                <td>Probit</td>      <th>  Df Residuals:      </th>  <td>   747</td>  \n",
       "</tr>\n",
       "<tr>\n",
       "  <th>Method:</th>                 <td>MLE</td>       <th>  Df Model:          </th>  <td>     5</td>  \n",
       "</tr>\n",
       "<tr>\n",
       "  <th>Date:</th>            <td>Thu, 18 Jan 2024</td> <th>  Pseudo R-squ.:     </th>  <td>0.02457</td> \n",
       "</tr>\n",
       "<tr>\n",
       "  <th>Time:</th>                <td>22:00:11</td>     <th>  Log-Likelihood:    </th> <td> -502.22</td> \n",
       "</tr>\n",
       "<tr>\n",
       "  <th>converged:</th>             <td>True</td>       <th>  LL-Null:           </th> <td> -514.87</td> \n",
       "</tr>\n",
       "<tr>\n",
       "  <th>Covariance Type:</th>     <td>nonrobust</td>    <th>  LLR p-value:       </th> <td>0.0001220</td>\n",
       "</tr>\n",
       "</table>\n",
       "<table class=\"simpletable\">\n",
       "<tr>\n",
       "         <td></td>           <th>coef</th>     <th>std err</th>      <th>z</th>      <th>P>|z|</th>  <th>[0.025</th>    <th>0.975]</th>  \n",
       "</tr>\n",
       "<tr>\n",
       "  <th>Intercept</th>      <td>   -5.2366</td> <td>    1.555</td> <td>   -3.367</td> <td> 0.001</td> <td>   -8.285</td> <td>   -2.188</td>\n",
       "</tr>\n",
       "<tr>\n",
       "  <th>WA</th>             <td>    0.1084</td> <td>    0.063</td> <td>    1.714</td> <td> 0.087</td> <td>   -0.016</td> <td>    0.232</td>\n",
       "</tr>\n",
       "<tr>\n",
       "  <th>I(WA ** 2)</th>     <td>   -0.0014</td> <td>    0.001</td> <td>   -1.929</td> <td> 0.054</td> <td>   -0.003</td> <td> 2.23e-05</td>\n",
       "</tr>\n",
       "<tr>\n",
       "  <th>CIT</th>            <td>   -0.1026</td> <td>    0.103</td> <td>   -0.997</td> <td> 0.319</td> <td>   -0.304</td> <td>    0.099</td>\n",
       "</tr>\n",
       "<tr>\n",
       "  <th>UN</th>             <td>   -0.0101</td> <td>    0.015</td> <td>   -0.669</td> <td> 0.503</td> <td>   -0.040</td> <td>    0.020</td>\n",
       "</tr>\n",
       "<tr>\n",
       "  <th>np.log(FAMINC)</th> <td>    0.3621</td> <td>    0.095</td> <td>    3.830</td> <td> 0.000</td> <td>    0.177</td> <td>    0.547</td>\n",
       "</tr>\n",
       "</table>"
      ],
      "text/latex": [
       "\\begin{center}\n",
       "\\begin{tabular}{lclc}\n",
       "\\toprule\n",
       "\\textbf{Dep. Variable:}   &       LFP        & \\textbf{  No. Observations:  } &      753    \\\\\n",
       "\\textbf{Model:}           &      Probit      & \\textbf{  Df Residuals:      } &      747    \\\\\n",
       "\\textbf{Method:}          &       MLE        & \\textbf{  Df Model:          } &        5    \\\\\n",
       "\\textbf{Date:}            & Thu, 18 Jan 2024 & \\textbf{  Pseudo R-squ.:     } &  0.02457    \\\\\n",
       "\\textbf{Time:}            &     22:00:11     & \\textbf{  Log-Likelihood:    } &   -502.22   \\\\\n",
       "\\textbf{converged:}       &       True       & \\textbf{  LL-Null:           } &   -514.87   \\\\\n",
       "\\textbf{Covariance Type:} &    nonrobust     & \\textbf{  LLR p-value:       } & 0.0001220   \\\\\n",
       "\\bottomrule\n",
       "\\end{tabular}\n",
       "\\begin{tabular}{lcccccc}\n",
       "                        & \\textbf{coef} & \\textbf{std err} & \\textbf{z} & \\textbf{P$> |$z$|$} & \\textbf{[0.025} & \\textbf{0.975]}  \\\\\n",
       "\\midrule\n",
       "\\textbf{Intercept}      &      -5.2366  &        1.555     &    -3.367  &         0.001        &       -8.285    &       -2.188     \\\\\n",
       "\\textbf{WA}             &       0.1084  &        0.063     &     1.714  &         0.087        &       -0.016    &        0.232     \\\\\n",
       "\\textbf{I(WA ** 2)}     &      -0.0014  &        0.001     &    -1.929  &         0.054        &       -0.003    &     2.23e-05     \\\\\n",
       "\\textbf{CIT}            &      -0.1026  &        0.103     &    -0.997  &         0.319        &       -0.304    &        0.099     \\\\\n",
       "\\textbf{UN}             &      -0.0101  &        0.015     &    -0.669  &         0.503        &       -0.040    &        0.020     \\\\\n",
       "\\textbf{np.log(FAMINC)} &       0.3621  &        0.095     &     3.830  &         0.000        &        0.177    &        0.547     \\\\\n",
       "\\bottomrule\n",
       "\\end{tabular}\n",
       "%\\caption{Probit Regression Results}\n",
       "\\end{center}"
      ],
      "text/plain": [
       "<class 'statsmodels.iolib.summary.Summary'>\n",
       "\"\"\"\n",
       "                          Probit Regression Results                           \n",
       "==============================================================================\n",
       "Dep. Variable:                    LFP   No. Observations:                  753\n",
       "Model:                         Probit   Df Residuals:                      747\n",
       "Method:                           MLE   Df Model:                            5\n",
       "Date:                Thu, 18 Jan 2024   Pseudo R-squ.:                 0.02457\n",
       "Time:                        22:00:11   Log-Likelihood:                -502.22\n",
       "converged:                       True   LL-Null:                       -514.87\n",
       "Covariance Type:            nonrobust   LLR p-value:                 0.0001220\n",
       "==================================================================================\n",
       "                     coef    std err          z      P>|z|      [0.025      0.975]\n",
       "----------------------------------------------------------------------------------\n",
       "Intercept         -5.2366      1.555     -3.367      0.001      -8.285      -2.188\n",
       "WA                 0.1084      0.063      1.714      0.087      -0.016       0.232\n",
       "I(WA ** 2)        -0.0014      0.001     -1.929      0.054      -0.003    2.23e-05\n",
       "CIT               -0.1026      0.103     -0.997      0.319      -0.304       0.099\n",
       "UN                -0.0101      0.015     -0.669      0.503      -0.040       0.020\n",
       "np.log(FAMINC)     0.3621      0.095      3.830      0.000       0.177       0.547\n",
       "==================================================================================\n",
       "\"\"\""
      ]
     },
     "execution_count": 30,
     "metadata": {},
     "output_type": "execute_result"
    }
   ],
   "source": [
    "res2.summary()"
   ]
  },
  {
   "cell_type": "code",
   "execution_count": 33,
   "id": "f1816c8d",
   "metadata": {},
   "outputs": [
    {
     "data": {
      "text/html": [
       "<div>\n",
       "<style scoped>\n",
       "    .dataframe tbody tr th:only-of-type {\n",
       "        vertical-align: middle;\n",
       "    }\n",
       "\n",
       "    .dataframe tbody tr th {\n",
       "        vertical-align: top;\n",
       "    }\n",
       "\n",
       "    .dataframe thead th {\n",
       "        text-align: right;\n",
       "    }\n",
       "</style>\n",
       "<table border=\"1\" class=\"dataframe\">\n",
       "  <thead>\n",
       "    <tr style=\"text-align: right;\">\n",
       "      <th></th>\n",
       "      <th>Coef.</th>\n",
       "      <th>Std.Err.</th>\n",
       "      <th>t</th>\n",
       "      <th>P&gt;|t|</th>\n",
       "      <th>[0.025</th>\n",
       "      <th>0.975]</th>\n",
       "    </tr>\n",
       "  </thead>\n",
       "  <tbody>\n",
       "    <tr>\n",
       "      <th>Intercept</th>\n",
       "      <td>-5.24</td>\n",
       "      <td>1.56</td>\n",
       "      <td>-3.37</td>\n",
       "      <td>0.00</td>\n",
       "      <td>-8.29</td>\n",
       "      <td>-2.19</td>\n",
       "    </tr>\n",
       "    <tr>\n",
       "      <th>WA</th>\n",
       "      <td>0.11</td>\n",
       "      <td>0.06</td>\n",
       "      <td>1.71</td>\n",
       "      <td>0.09</td>\n",
       "      <td>-0.02</td>\n",
       "      <td>0.23</td>\n",
       "    </tr>\n",
       "    <tr>\n",
       "      <th>I(WA ** 2)</th>\n",
       "      <td>-0.00</td>\n",
       "      <td>0.00</td>\n",
       "      <td>-1.93</td>\n",
       "      <td>0.05</td>\n",
       "      <td>-0.00</td>\n",
       "      <td>0.00</td>\n",
       "    </tr>\n",
       "    <tr>\n",
       "      <th>CIT</th>\n",
       "      <td>-0.10</td>\n",
       "      <td>0.10</td>\n",
       "      <td>-1.00</td>\n",
       "      <td>0.32</td>\n",
       "      <td>-0.30</td>\n",
       "      <td>0.10</td>\n",
       "    </tr>\n",
       "    <tr>\n",
       "      <th>UN</th>\n",
       "      <td>-0.01</td>\n",
       "      <td>0.02</td>\n",
       "      <td>-0.67</td>\n",
       "      <td>0.50</td>\n",
       "      <td>-0.04</td>\n",
       "      <td>0.02</td>\n",
       "    </tr>\n",
       "    <tr>\n",
       "      <th>np.log(FAMINC)</th>\n",
       "      <td>0.36</td>\n",
       "      <td>0.09</td>\n",
       "      <td>3.83</td>\n",
       "      <td>0.00</td>\n",
       "      <td>0.18</td>\n",
       "      <td>0.55</td>\n",
       "    </tr>\n",
       "  </tbody>\n",
       "</table>\n",
       "</div>"
      ],
      "text/plain": [
       "                Coef.  Std.Err.     t  P>|t|  [0.025  0.975]\n",
       "Intercept       -5.24      1.56 -3.37   0.00   -8.29   -2.19\n",
       "WA               0.11      0.06  1.71   0.09   -0.02    0.23\n",
       "I(WA ** 2)      -0.00      0.00 -1.93   0.05   -0.00    0.00\n",
       "CIT             -0.10      0.10 -1.00   0.32   -0.30    0.10\n",
       "UN              -0.01      0.02 -0.67   0.50   -0.04    0.02\n",
       "np.log(FAMINC)   0.36      0.09  3.83   0.00    0.18    0.55"
      ]
     },
     "execution_count": 33,
     "metadata": {},
     "output_type": "execute_result"
    }
   ],
   "source": [
    "summary_params(res2).round(2)"
   ]
  },
  {
   "cell_type": "code",
   "execution_count": 48,
   "id": "cc490a22",
   "metadata": {},
   "outputs": [
    {
     "data": {
      "text/plain": [
       "2.58"
      ]
     },
     "execution_count": 48,
     "metadata": {},
     "output_type": "execute_result"
    }
   ],
   "source": [
    "sign_level2=0.01\n",
    "norm.ppf(q=1-sign_level2/2).round(2) #критическое значение стандартного гауссовского распределения"
   ]
  },
  {
   "cell_type": "code",
   "execution_count": 36,
   "id": "3d0c478f",
   "metadata": {},
   "outputs": [
    {
     "name": "stdout",
     "output_type": "stream",
     "text": [
      "Optimization terminated successfully.\n",
      "         Current function value: 0.683347\n",
      "         Iterations 4\n"
     ]
    }
   ],
   "source": [
    "mod3=smf.logit(formula='LFP~K618+CIT+UN', data=df)\n",
    "res3=mod3.fit()"
   ]
  },
  {
   "cell_type": "code",
   "execution_count": 37,
   "id": "89ba68d3",
   "metadata": {},
   "outputs": [
    {
     "data": {
      "text/html": [
       "<table class=\"simpletable\">\n",
       "<caption>Logit Regression Results</caption>\n",
       "<tr>\n",
       "  <th>Dep. Variable:</th>          <td>LFP</td>       <th>  No. Observations:  </th>  <td>   753</td>  \n",
       "</tr>\n",
       "<tr>\n",
       "  <th>Model:</th>                 <td>Logit</td>      <th>  Df Residuals:      </th>  <td>   749</td>  \n",
       "</tr>\n",
       "<tr>\n",
       "  <th>Method:</th>                 <td>MLE</td>       <th>  Df Model:          </th>  <td>     3</td>  \n",
       "</tr>\n",
       "<tr>\n",
       "  <th>Date:</th>            <td>Thu, 18 Jan 2024</td> <th>  Pseudo R-squ.:     </th> <td>0.0006074</td>\n",
       "</tr>\n",
       "<tr>\n",
       "  <th>Time:</th>                <td>22:03:12</td>     <th>  Log-Likelihood:    </th> <td> -514.56</td> \n",
       "</tr>\n",
       "<tr>\n",
       "  <th>converged:</th>             <td>True</td>       <th>  LL-Null:           </th> <td> -514.87</td> \n",
       "</tr>\n",
       "<tr>\n",
       "  <th>Covariance Type:</th>     <td>nonrobust</td>    <th>  LLR p-value:       </th>  <td>0.8906</td>  \n",
       "</tr>\n",
       "</table>\n",
       "<table class=\"simpletable\">\n",
       "<tr>\n",
       "      <td></td>         <th>coef</th>     <th>std err</th>      <th>z</th>      <th>P>|z|</th>  <th>[0.025</th>    <th>0.975]</th>  \n",
       "</tr>\n",
       "<tr>\n",
       "  <th>Intercept</th> <td>    0.4420</td> <td>    0.238</td> <td>    1.855</td> <td> 0.064</td> <td>   -0.025</td> <td>    0.909</td>\n",
       "</tr>\n",
       "<tr>\n",
       "  <th>K618</th>      <td>   -0.0031</td> <td>    0.056</td> <td>   -0.056</td> <td> 0.955</td> <td>   -0.113</td> <td>    0.106</td>\n",
       "</tr>\n",
       "<tr>\n",
       "  <th>CIT</th>       <td>   -0.0043</td> <td>    0.156</td> <td>   -0.028</td> <td> 0.978</td> <td>   -0.311</td> <td>    0.302</td>\n",
       "</tr>\n",
       "<tr>\n",
       "  <th>UN</th>        <td>   -0.0185</td> <td>    0.024</td> <td>   -0.769</td> <td> 0.442</td> <td>   -0.066</td> <td>    0.029</td>\n",
       "</tr>\n",
       "</table>"
      ],
      "text/latex": [
       "\\begin{center}\n",
       "\\begin{tabular}{lclc}\n",
       "\\toprule\n",
       "\\textbf{Dep. Variable:}   &       LFP        & \\textbf{  No. Observations:  } &      753    \\\\\n",
       "\\textbf{Model:}           &      Logit       & \\textbf{  Df Residuals:      } &      749    \\\\\n",
       "\\textbf{Method:}          &       MLE        & \\textbf{  Df Model:          } &        3    \\\\\n",
       "\\textbf{Date:}            & Thu, 18 Jan 2024 & \\textbf{  Pseudo R-squ.:     } & 0.0006074   \\\\\n",
       "\\textbf{Time:}            &     22:03:12     & \\textbf{  Log-Likelihood:    } &   -514.56   \\\\\n",
       "\\textbf{converged:}       &       True       & \\textbf{  LL-Null:           } &   -514.87   \\\\\n",
       "\\textbf{Covariance Type:} &    nonrobust     & \\textbf{  LLR p-value:       } &   0.8906    \\\\\n",
       "\\bottomrule\n",
       "\\end{tabular}\n",
       "\\begin{tabular}{lcccccc}\n",
       "                   & \\textbf{coef} & \\textbf{std err} & \\textbf{z} & \\textbf{P$> |$z$|$} & \\textbf{[0.025} & \\textbf{0.975]}  \\\\\n",
       "\\midrule\n",
       "\\textbf{Intercept} &       0.4420  &        0.238     &     1.855  &         0.064        &       -0.025    &        0.909     \\\\\n",
       "\\textbf{K618}      &      -0.0031  &        0.056     &    -0.056  &         0.955        &       -0.113    &        0.106     \\\\\n",
       "\\textbf{CIT}       &      -0.0043  &        0.156     &    -0.028  &         0.978        &       -0.311    &        0.302     \\\\\n",
       "\\textbf{UN}        &      -0.0185  &        0.024     &    -0.769  &         0.442        &       -0.066    &        0.029     \\\\\n",
       "\\bottomrule\n",
       "\\end{tabular}\n",
       "%\\caption{Logit Regression Results}\n",
       "\\end{center}"
      ],
      "text/plain": [
       "<class 'statsmodels.iolib.summary.Summary'>\n",
       "\"\"\"\n",
       "                           Logit Regression Results                           \n",
       "==============================================================================\n",
       "Dep. Variable:                    LFP   No. Observations:                  753\n",
       "Model:                          Logit   Df Residuals:                      749\n",
       "Method:                           MLE   Df Model:                            3\n",
       "Date:                Thu, 18 Jan 2024   Pseudo R-squ.:               0.0006074\n",
       "Time:                        22:03:12   Log-Likelihood:                -514.56\n",
       "converged:                       True   LL-Null:                       -514.87\n",
       "Covariance Type:            nonrobust   LLR p-value:                    0.8906\n",
       "==============================================================================\n",
       "                 coef    std err          z      P>|z|      [0.025      0.975]\n",
       "------------------------------------------------------------------------------\n",
       "Intercept      0.4420      0.238      1.855      0.064      -0.025       0.909\n",
       "K618          -0.0031      0.056     -0.056      0.955      -0.113       0.106\n",
       "CIT           -0.0043      0.156     -0.028      0.978      -0.311       0.302\n",
       "UN            -0.0185      0.024     -0.769      0.442      -0.066       0.029\n",
       "==============================================================================\n",
       "\"\"\""
      ]
     },
     "execution_count": 37,
     "metadata": {},
     "output_type": "execute_result"
    }
   ],
   "source": [
    "res3.summary()"
   ]
  },
  {
   "cell_type": "code",
   "execution_count": 41,
   "id": "85483414",
   "metadata": {},
   "outputs": [
    {
     "data": {
      "text/plain": [
       "753"
      ]
     },
     "execution_count": 41,
     "metadata": {},
     "output_type": "execute_result"
    }
   ],
   "source": [
    "res3.nobs"
   ]
  },
  {
   "cell_type": "code",
   "execution_count": 42,
   "id": "899ed39c",
   "metadata": {},
   "outputs": [
    {
     "data": {
      "text/plain": [
       "-514.56"
      ]
     },
     "execution_count": 42,
     "metadata": {},
     "output_type": "execute_result"
    }
   ],
   "source": [
    "res3.llf.round(2) #logL model"
   ]
  },
  {
   "cell_type": "code",
   "execution_count": 43,
   "id": "88a600cb",
   "metadata": {},
   "outputs": [
    {
     "data": {
      "text/plain": [
       "-514.87"
      ]
     },
     "execution_count": 43,
     "metadata": {},
     "output_type": "execute_result"
    }
   ],
   "source": [
    "res3.llnull.round(2) #logL constant only"
   ]
  },
  {
   "cell_type": "code",
   "execution_count": 44,
   "id": "8b4c3f43",
   "metadata": {},
   "outputs": [
    {
     "data": {
      "text/plain": [
       "(0.63, 0.89)"
      ]
     },
     "execution_count": 44,
     "metadata": {},
     "output_type": "execute_result"
    }
   ],
   "source": [
    "res3.llr.round(2), res3.llr_pvalue.round(2) #LR test for regression and P-values  "
   ]
  },
  {
   "cell_type": "code",
   "execution_count": 46,
   "id": "0aec2ebd",
   "metadata": {},
   "outputs": [
    {
     "data": {
      "text/plain": [
       "3.0"
      ]
     },
     "execution_count": 46,
     "metadata": {},
     "output_type": "execute_result"
    }
   ],
   "source": [
    "#critical value\n",
    "res3.df_model #степени свободы для x2"
   ]
  },
  {
   "cell_type": "code",
   "execution_count": 47,
   "id": "eb7f947d",
   "metadata": {},
   "outputs": [
    {
     "data": {
      "text/plain": [
       "6.25"
      ]
     },
     "execution_count": 47,
     "metadata": {},
     "output_type": "execute_result"
    }
   ],
   "source": [
    "sign_level3=0.1\n",
    "chi2.ppf(q=1-sign_level3, df=res3.df_model).round(2)"
   ]
  },
  {
   "cell_type": "code",
   "execution_count": 53,
   "id": "09e774be",
   "metadata": {},
   "outputs": [
    {
     "name": "stdout",
     "output_type": "stream",
     "text": [
      "Optimization terminated successfully.\n",
      "         Current function value: 0.613860\n",
      "         Iterations 5\n"
     ]
    },
    {
     "data": {
      "text/html": [
       "<table class=\"simpletable\">\n",
       "<caption>Logit Regression Results</caption>\n",
       "<tr>\n",
       "  <th>Dep. Variable:</th>          <td>LFP</td>       <th>  No. Observations:  </th>  <td>   753</td>  \n",
       "</tr>\n",
       "<tr>\n",
       "  <th>Model:</th>                 <td>Logit</td>      <th>  Df Residuals:      </th>  <td>   744</td>  \n",
       "</tr>\n",
       "<tr>\n",
       "  <th>Method:</th>                 <td>MLE</td>       <th>  Df Model:          </th>  <td>     8</td>  \n",
       "</tr>\n",
       "<tr>\n",
       "  <th>Date:</th>            <td>Thu, 18 Jan 2024</td> <th>  Pseudo R-squ.:     </th>  <td>0.1022</td>  \n",
       "</tr>\n",
       "<tr>\n",
       "  <th>Time:</th>                <td>22:31:07</td>     <th>  Log-Likelihood:    </th> <td> -462.24</td> \n",
       "</tr>\n",
       "<tr>\n",
       "  <th>converged:</th>             <td>True</td>       <th>  LL-Null:           </th> <td> -514.87</td> \n",
       "</tr>\n",
       "<tr>\n",
       "  <th>Covariance Type:</th>     <td>nonrobust</td>    <th>  LLR p-value:       </th> <td>3.554e-19</td>\n",
       "</tr>\n",
       "</table>\n",
       "<table class=\"simpletable\">\n",
       "<tr>\n",
       "         <td></td>           <th>coef</th>     <th>std err</th>      <th>z</th>      <th>P>|z|</th>  <th>[0.025</th>    <th>0.975]</th>  \n",
       "</tr>\n",
       "<tr>\n",
       "  <th>Intercept</th>      <td>   -3.2407</td> <td>    2.834</td> <td>   -1.144</td> <td> 0.253</td> <td>   -8.795</td> <td>    2.313</td>\n",
       "</tr>\n",
       "<tr>\n",
       "  <th>WA</th>             <td>    0.0070</td> <td>    0.116</td> <td>    0.060</td> <td> 0.952</td> <td>   -0.220</td> <td>    0.234</td>\n",
       "</tr>\n",
       "<tr>\n",
       "  <th>I(WA ** 2)</th>     <td>   -0.0008</td> <td>    0.001</td> <td>   -0.606</td> <td> 0.544</td> <td>   -0.003</td> <td>    0.002</td>\n",
       "</tr>\n",
       "<tr>\n",
       "  <th>WE</th>             <td>    0.1800</td> <td>    0.040</td> <td>    4.453</td> <td> 0.000</td> <td>    0.101</td> <td>    0.259</td>\n",
       "</tr>\n",
       "<tr>\n",
       "  <th>KL6</th>            <td>   -1.4138</td> <td>    0.199</td> <td>   -7.115</td> <td> 0.000</td> <td>   -1.803</td> <td>   -1.024</td>\n",
       "</tr>\n",
       "<tr>\n",
       "  <th>K618</th>           <td>   -0.1042</td> <td>    0.069</td> <td>   -1.517</td> <td> 0.129</td> <td>   -0.239</td> <td>    0.030</td>\n",
       "</tr>\n",
       "<tr>\n",
       "  <th>CIT</th>            <td>   -0.2165</td> <td>    0.177</td> <td>   -1.227</td> <td> 0.220</td> <td>   -0.562</td> <td>    0.129</td>\n",
       "</tr>\n",
       "<tr>\n",
       "  <th>UN</th>             <td>   -0.0176</td> <td>    0.026</td> <td>   -0.681</td> <td> 0.496</td> <td>   -0.068</td> <td>    0.033</td>\n",
       "</tr>\n",
       "<tr>\n",
       "  <th>np.log(FAMINC)</th> <td>    0.3331</td> <td>    0.173</td> <td>    1.927</td> <td> 0.054</td> <td>   -0.006</td> <td>    0.672</td>\n",
       "</tr>\n",
       "</table>"
      ],
      "text/latex": [
       "\\begin{center}\n",
       "\\begin{tabular}{lclc}\n",
       "\\toprule\n",
       "\\textbf{Dep. Variable:}   &       LFP        & \\textbf{  No. Observations:  } &      753    \\\\\n",
       "\\textbf{Model:}           &      Logit       & \\textbf{  Df Residuals:      } &      744    \\\\\n",
       "\\textbf{Method:}          &       MLE        & \\textbf{  Df Model:          } &        8    \\\\\n",
       "\\textbf{Date:}            & Thu, 18 Jan 2024 & \\textbf{  Pseudo R-squ.:     } &   0.1022    \\\\\n",
       "\\textbf{Time:}            &     22:31:07     & \\textbf{  Log-Likelihood:    } &   -462.24   \\\\\n",
       "\\textbf{converged:}       &       True       & \\textbf{  LL-Null:           } &   -514.87   \\\\\n",
       "\\textbf{Covariance Type:} &    nonrobust     & \\textbf{  LLR p-value:       } & 3.554e-19   \\\\\n",
       "\\bottomrule\n",
       "\\end{tabular}\n",
       "\\begin{tabular}{lcccccc}\n",
       "                        & \\textbf{coef} & \\textbf{std err} & \\textbf{z} & \\textbf{P$> |$z$|$} & \\textbf{[0.025} & \\textbf{0.975]}  \\\\\n",
       "\\midrule\n",
       "\\textbf{Intercept}      &      -3.2407  &        2.834     &    -1.144  &         0.253        &       -8.795    &        2.313     \\\\\n",
       "\\textbf{WA}             &       0.0070  &        0.116     &     0.060  &         0.952        &       -0.220    &        0.234     \\\\\n",
       "\\textbf{I(WA ** 2)}     &      -0.0008  &        0.001     &    -0.606  &         0.544        &       -0.003    &        0.002     \\\\\n",
       "\\textbf{WE}             &       0.1800  &        0.040     &     4.453  &         0.000        &        0.101    &        0.259     \\\\\n",
       "\\textbf{KL6}            &      -1.4138  &        0.199     &    -7.115  &         0.000        &       -1.803    &       -1.024     \\\\\n",
       "\\textbf{K618}           &      -0.1042  &        0.069     &    -1.517  &         0.129        &       -0.239    &        0.030     \\\\\n",
       "\\textbf{CIT}            &      -0.2165  &        0.177     &    -1.227  &         0.220        &       -0.562    &        0.129     \\\\\n",
       "\\textbf{UN}             &      -0.0176  &        0.026     &    -0.681  &         0.496        &       -0.068    &        0.033     \\\\\n",
       "\\textbf{np.log(FAMINC)} &       0.3331  &        0.173     &     1.927  &         0.054        &       -0.006    &        0.672     \\\\\n",
       "\\bottomrule\n",
       "\\end{tabular}\n",
       "%\\caption{Logit Regression Results}\n",
       "\\end{center}"
      ],
      "text/plain": [
       "<class 'statsmodels.iolib.summary.Summary'>\n",
       "\"\"\"\n",
       "                           Logit Regression Results                           \n",
       "==============================================================================\n",
       "Dep. Variable:                    LFP   No. Observations:                  753\n",
       "Model:                          Logit   Df Residuals:                      744\n",
       "Method:                           MLE   Df Model:                            8\n",
       "Date:                Thu, 18 Jan 2024   Pseudo R-squ.:                  0.1022\n",
       "Time:                        22:31:07   Log-Likelihood:                -462.24\n",
       "converged:                       True   LL-Null:                       -514.87\n",
       "Covariance Type:            nonrobust   LLR p-value:                 3.554e-19\n",
       "==================================================================================\n",
       "                     coef    std err          z      P>|z|      [0.025      0.975]\n",
       "----------------------------------------------------------------------------------\n",
       "Intercept         -3.2407      2.834     -1.144      0.253      -8.795       2.313\n",
       "WA                 0.0070      0.116      0.060      0.952      -0.220       0.234\n",
       "I(WA ** 2)        -0.0008      0.001     -0.606      0.544      -0.003       0.002\n",
       "WE                 0.1800      0.040      4.453      0.000       0.101       0.259\n",
       "KL6               -1.4138      0.199     -7.115      0.000      -1.803      -1.024\n",
       "K618              -0.1042      0.069     -1.517      0.129      -0.239       0.030\n",
       "CIT               -0.2165      0.177     -1.227      0.220      -0.562       0.129\n",
       "UN                -0.0176      0.026     -0.681      0.496      -0.068       0.033\n",
       "np.log(FAMINC)     0.3331      0.173      1.927      0.054      -0.006       0.672\n",
       "==================================================================================\n",
       "\"\"\""
      ]
     },
     "execution_count": 53,
     "metadata": {},
     "output_type": "execute_result"
    }
   ],
   "source": [
    "mod4=smf.logit(formula='LFP~WA+I(WA**2)+WE+KL6+K618+CIT+UN+np.log(FAMINC)', data=df)\n",
    "res4=mod4.fit()\n",
    "res4.summary()"
   ]
  },
  {
   "cell_type": "code",
   "execution_count": 54,
   "id": "7053357c",
   "metadata": {},
   "outputs": [
    {
     "name": "stdout",
     "output_type": "stream",
     "text": [
      "<class 'pandas.core.frame.DataFrame'>\n",
      "RangeIndex: 753 entries, 0 to 752\n",
      "Data columns (total 19 columns):\n",
      " #   Column  Non-Null Count  Dtype  \n",
      "---  ------  --------------  -----  \n",
      " 0   LFP     753 non-null    int64  \n",
      " 1   WHRS    753 non-null    int64  \n",
      " 2   KL6     753 non-null    int64  \n",
      " 3   K618    753 non-null    int64  \n",
      " 4   WA      753 non-null    int64  \n",
      " 5   WE      753 non-null    int64  \n",
      " 6   WW      753 non-null    float64\n",
      " 7   RPWG    753 non-null    float64\n",
      " 8   HHRS    753 non-null    int64  \n",
      " 9   HA      753 non-null    int64  \n",
      " 10  HE      753 non-null    int64  \n",
      " 11  HW      753 non-null    float64\n",
      " 12  FAMINC  753 non-null    int64  \n",
      " 13  MTR     753 non-null    float64\n",
      " 14  WMED    753 non-null    int64  \n",
      " 15  WFED    753 non-null    int64  \n",
      " 16  UN      753 non-null    float64\n",
      " 17  CIT     753 non-null    int64  \n",
      " 18  AX      753 non-null    int64  \n",
      "dtypes: float64(5), int64(14)\n",
      "memory usage: 111.9 KB\n"
     ]
    }
   ],
   "source": [
    "df.info()"
   ]
  },
  {
   "cell_type": "code",
   "execution_count": 59,
   "id": "b9193659",
   "metadata": {},
   "outputs": [
    {
     "data": {
      "text/plain": [
       "<class 'statsmodels.stats.contrast.ContrastResults'>\n",
       "<Wald test (chi2): statistic=[[5.05563957]], p-value=0.1677679859708643, df_denom=3>"
      ]
     },
     "execution_count": 59,
     "metadata": {},
     "output_type": "execute_result"
    }
   ],
   "source": [
    "res4.wald_test('CIT=UN=np.log(FAMINC)=0')"
   ]
  },
  {
   "cell_type": "code",
   "execution_count": 57,
   "id": "fdd5a5e3",
   "metadata": {},
   "outputs": [
    {
     "data": {
      "text/plain": [
       "11.34"
      ]
     },
     "execution_count": 57,
     "metadata": {},
     "output_type": "execute_result"
    }
   ],
   "source": [
    "3 #степени свободы для x2\n",
    "#критическое значение \n",
    "sign_level4=0.01\n",
    "chi2.ppf(q=1-sign_level4, df=3).round(2)"
   ]
  },
  {
   "cell_type": "code",
   "execution_count": 62,
   "id": "bff80dc7",
   "metadata": {},
   "outputs": [
    {
     "data": {
      "text/plain": [
       "Intercept        -1.54\n",
       "WA                0.05\n",
       "I(WA ** 2)       -0.00\n",
       "WE                0.03\n",
       "CIT              -0.05\n",
       "UN               -0.01\n",
       "np.log(FAMINC)    0.08\n",
       "dtype: float64"
      ]
     },
     "execution_count": 62,
     "metadata": {},
     "output_type": "execute_result"
    }
   ],
   "source": [
    "mod5=smf.ols(formula='LFP~WA+I(WA**2)+WE+CIT+UN+np.log(FAMINC)', data=df)\n",
    "res5=mod5.fit()\n",
    "res5.params.round(2)"
   ]
  },
  {
   "cell_type": "code",
   "execution_count": 63,
   "id": "23381abf",
   "metadata": {},
   "outputs": [
    {
     "data": {
      "text/html": [
       "<div>\n",
       "<style scoped>\n",
       "    .dataframe tbody tr th:only-of-type {\n",
       "        vertical-align: middle;\n",
       "    }\n",
       "\n",
       "    .dataframe tbody tr th {\n",
       "        vertical-align: top;\n",
       "    }\n",
       "\n",
       "    .dataframe thead th {\n",
       "        text-align: right;\n",
       "    }\n",
       "</style>\n",
       "<table border=\"1\" class=\"dataframe\">\n",
       "  <thead>\n",
       "    <tr style=\"text-align: right;\">\n",
       "      <th></th>\n",
       "      <th>WA</th>\n",
       "      <th>WE</th>\n",
       "      <th>CIT</th>\n",
       "      <th>UN</th>\n",
       "      <th>FAMINC</th>\n",
       "    </tr>\n",
       "  </thead>\n",
       "  <tbody>\n",
       "    <tr>\n",
       "      <th>0</th>\n",
       "      <td>32</td>\n",
       "      <td>15</td>\n",
       "      <td>1</td>\n",
       "      <td>3.0</td>\n",
       "      <td>35000</td>\n",
       "    </tr>\n",
       "    <tr>\n",
       "      <th>1</th>\n",
       "      <td>37</td>\n",
       "      <td>11</td>\n",
       "      <td>0</td>\n",
       "      <td>5.0</td>\n",
       "      <td>48500</td>\n",
       "    </tr>\n",
       "    <tr>\n",
       "      <th>2</th>\n",
       "      <td>40</td>\n",
       "      <td>13</td>\n",
       "      <td>1</td>\n",
       "      <td>7.5</td>\n",
       "      <td>67800</td>\n",
       "    </tr>\n",
       "  </tbody>\n",
       "</table>\n",
       "</div>"
      ],
      "text/plain": [
       "   WA  WE  CIT   UN  FAMINC\n",
       "0  32  15    1  3.0   35000\n",
       "1  37  11    0  5.0   48500\n",
       "2  40  13    1  7.5   67800"
      ]
     },
     "execution_count": 63,
     "metadata": {},
     "output_type": "execute_result"
    }
   ],
   "source": [
    "new_df=pd.DataFrame({'WA': [32, 37, 40], \n",
    "                     'WE': [15, 11, 13], \n",
    "                     'CIT': [1,0,1], \n",
    "                     'UN': [3.0, 5.0, 7.5],\n",
    "                     'FAMINC': [35000, 48500, 67800]})\n",
    "new_df"
   ]
  },
  {
   "cell_type": "code",
   "execution_count": 64,
   "id": "4055b5ad",
   "metadata": {},
   "outputs": [
    {
     "data": {
      "text/plain": [
       "0    0.72\n",
       "1    0.69\n",
       "2    0.73\n",
       "dtype: float64"
      ]
     },
     "execution_count": 64,
     "metadata": {},
     "output_type": "execute_result"
    }
   ],
   "source": [
    "res5.predict(exog=new_df, transform=True).round(2)"
   ]
  },
  {
   "cell_type": "code",
   "execution_count": 65,
   "id": "b27d8a7b",
   "metadata": {},
   "outputs": [
    {
     "data": {
      "text/plain": [
       "Intercept        -1.54\n",
       "WA                0.05\n",
       "I(WA ** 2)       -0.00\n",
       "WE                0.03\n",
       "CIT              -0.05\n",
       "UN               -0.01\n",
       "np.log(FAMINC)    0.08\n",
       "dtype: float64"
      ]
     },
     "execution_count": 65,
     "metadata": {},
     "output_type": "execute_result"
    }
   ],
   "source": [
    "res5_hc=smf.ols(formula='LFP~WA+I(WA**2)+WE+CIT+UN+np.log(FAMINC)', data=df).fit(cov_type='HC3')\n",
    "res5_hc.params.round(2)"
   ]
  },
  {
   "cell_type": "code",
   "execution_count": 66,
   "id": "d349c504",
   "metadata": {},
   "outputs": [
    {
     "data": {
      "text/plain": [
       "0    0.72\n",
       "1    0.69\n",
       "2    0.73\n",
       "dtype: float64"
      ]
     },
     "execution_count": 66,
     "metadata": {},
     "output_type": "execute_result"
    }
   ],
   "source": [
    "res5_hc.predict(exog=new_df, transform=True).round(2)"
   ]
  },
  {
   "cell_type": "code",
   "execution_count": 67,
   "id": "ad64e34d",
   "metadata": {},
   "outputs": [
    {
     "name": "stdout",
     "output_type": "stream",
     "text": [
      "Optimization terminated successfully.\n",
      "         Current function value: 0.659103\n",
      "         Iterations 5\n"
     ]
    },
    {
     "data": {
      "text/html": [
       "<table class=\"simpletable\">\n",
       "<caption>Probit Regression Results</caption>\n",
       "<tr>\n",
       "  <th>Dep. Variable:</th>          <td>LFP</td>       <th>  No. Observations:  </th>  <td>   753</td>  \n",
       "</tr>\n",
       "<tr>\n",
       "  <th>Model:</th>                <td>Probit</td>      <th>  Df Residuals:      </th>  <td>   747</td>  \n",
       "</tr>\n",
       "<tr>\n",
       "  <th>Method:</th>                 <td>MLE</td>       <th>  Df Model:          </th>  <td>     5</td>  \n",
       "</tr>\n",
       "<tr>\n",
       "  <th>Date:</th>            <td>Thu, 18 Jan 2024</td> <th>  Pseudo R-squ.:     </th>  <td>0.03606</td> \n",
       "</tr>\n",
       "<tr>\n",
       "  <th>Time:</th>                <td>23:09:19</td>     <th>  Log-Likelihood:    </th> <td> -496.30</td> \n",
       "</tr>\n",
       "<tr>\n",
       "  <th>converged:</th>             <td>True</td>       <th>  LL-Null:           </th> <td> -514.87</td> \n",
       "</tr>\n",
       "<tr>\n",
       "  <th>Covariance Type:</th>     <td>nonrobust</td>    <th>  LLR p-value:       </th> <td>5.621e-07</td>\n",
       "</tr>\n",
       "</table>\n",
       "<table class=\"simpletable\">\n",
       "<tr>\n",
       "       <td></td>         <th>coef</th>     <th>std err</th>      <th>z</th>      <th>P>|z|</th>  <th>[0.025</th>    <th>0.975]</th>  \n",
       "</tr>\n",
       "<tr>\n",
       "  <th>Intercept</th>  <td>   -3.8495</td> <td>    1.383</td> <td>   -2.783</td> <td> 0.005</td> <td>   -6.561</td> <td>   -1.138</td>\n",
       "</tr>\n",
       "<tr>\n",
       "  <th>WA</th>         <td>    0.1455</td> <td>    0.064</td> <td>    2.284</td> <td> 0.022</td> <td>    0.021</td> <td>    0.270</td>\n",
       "</tr>\n",
       "<tr>\n",
       "  <th>I(WA ** 2)</th> <td>   -0.0018</td> <td>    0.001</td> <td>   -2.423</td> <td> 0.015</td> <td>   -0.003</td> <td>   -0.000</td>\n",
       "</tr>\n",
       "<tr>\n",
       "  <th>WE</th>         <td>    0.1104</td> <td>    0.022</td> <td>    5.078</td> <td> 0.000</td> <td>    0.068</td> <td>    0.153</td>\n",
       "</tr>\n",
       "<tr>\n",
       "  <th>CIT</th>        <td>   -0.0813</td> <td>    0.101</td> <td>   -0.806</td> <td> 0.420</td> <td>   -0.279</td> <td>    0.116</td>\n",
       "</tr>\n",
       "<tr>\n",
       "  <th>UN</th>         <td>   -0.0145</td> <td>    0.015</td> <td>   -0.951</td> <td> 0.342</td> <td>   -0.045</td> <td>    0.015</td>\n",
       "</tr>\n",
       "</table>"
      ],
      "text/latex": [
       "\\begin{center}\n",
       "\\begin{tabular}{lclc}\n",
       "\\toprule\n",
       "\\textbf{Dep. Variable:}   &       LFP        & \\textbf{  No. Observations:  } &      753    \\\\\n",
       "\\textbf{Model:}           &      Probit      & \\textbf{  Df Residuals:      } &      747    \\\\\n",
       "\\textbf{Method:}          &       MLE        & \\textbf{  Df Model:          } &        5    \\\\\n",
       "\\textbf{Date:}            & Thu, 18 Jan 2024 & \\textbf{  Pseudo R-squ.:     } &  0.03606    \\\\\n",
       "\\textbf{Time:}            &     23:09:19     & \\textbf{  Log-Likelihood:    } &   -496.30   \\\\\n",
       "\\textbf{converged:}       &       True       & \\textbf{  LL-Null:           } &   -514.87   \\\\\n",
       "\\textbf{Covariance Type:} &    nonrobust     & \\textbf{  LLR p-value:       } & 5.621e-07   \\\\\n",
       "\\bottomrule\n",
       "\\end{tabular}\n",
       "\\begin{tabular}{lcccccc}\n",
       "                    & \\textbf{coef} & \\textbf{std err} & \\textbf{z} & \\textbf{P$> |$z$|$} & \\textbf{[0.025} & \\textbf{0.975]}  \\\\\n",
       "\\midrule\n",
       "\\textbf{Intercept}  &      -3.8495  &        1.383     &    -2.783  &         0.005        &       -6.561    &       -1.138     \\\\\n",
       "\\textbf{WA}         &       0.1455  &        0.064     &     2.284  &         0.022        &        0.021    &        0.270     \\\\\n",
       "\\textbf{I(WA ** 2)} &      -0.0018  &        0.001     &    -2.423  &         0.015        &       -0.003    &       -0.000     \\\\\n",
       "\\textbf{WE}         &       0.1104  &        0.022     &     5.078  &         0.000        &        0.068    &        0.153     \\\\\n",
       "\\textbf{CIT}        &      -0.0813  &        0.101     &    -0.806  &         0.420        &       -0.279    &        0.116     \\\\\n",
       "\\textbf{UN}         &      -0.0145  &        0.015     &    -0.951  &         0.342        &       -0.045    &        0.015     \\\\\n",
       "\\bottomrule\n",
       "\\end{tabular}\n",
       "%\\caption{Probit Regression Results}\n",
       "\\end{center}"
      ],
      "text/plain": [
       "<class 'statsmodels.iolib.summary.Summary'>\n",
       "\"\"\"\n",
       "                          Probit Regression Results                           \n",
       "==============================================================================\n",
       "Dep. Variable:                    LFP   No. Observations:                  753\n",
       "Model:                         Probit   Df Residuals:                      747\n",
       "Method:                           MLE   Df Model:                            5\n",
       "Date:                Thu, 18 Jan 2024   Pseudo R-squ.:                 0.03606\n",
       "Time:                        23:09:19   Log-Likelihood:                -496.30\n",
       "converged:                       True   LL-Null:                       -514.87\n",
       "Covariance Type:            nonrobust   LLR p-value:                 5.621e-07\n",
       "==============================================================================\n",
       "                 coef    std err          z      P>|z|      [0.025      0.975]\n",
       "------------------------------------------------------------------------------\n",
       "Intercept     -3.8495      1.383     -2.783      0.005      -6.561      -1.138\n",
       "WA             0.1455      0.064      2.284      0.022       0.021       0.270\n",
       "I(WA ** 2)    -0.0018      0.001     -2.423      0.015      -0.003      -0.000\n",
       "WE             0.1104      0.022      5.078      0.000       0.068       0.153\n",
       "CIT           -0.0813      0.101     -0.806      0.420      -0.279       0.116\n",
       "UN            -0.0145      0.015     -0.951      0.342      -0.045       0.015\n",
       "==============================================================================\n",
       "\"\"\""
      ]
     },
     "execution_count": 67,
     "metadata": {},
     "output_type": "execute_result"
    }
   ],
   "source": [
    "res6=smf.probit(formula='LFP~WA+I(WA**2)+WE+CIT+UN', data=df).fit()\n",
    "res6.summary()"
   ]
  },
  {
   "cell_type": "code",
   "execution_count": 74,
   "id": "1d9ac218",
   "metadata": {},
   "outputs": [
    {
     "name": "stdout",
     "output_type": "stream",
     "text": [
      "Optimization terminated successfully.\n",
      "         Current function value: 0.654294\n",
      "         Iterations 5\n"
     ]
    }
   ],
   "source": [
    "res7=smf.logit(formula='LFP~WA+I(WA**2)+FAMINC+I(FAMINC**2)+WE', data=df).fit()"
   ]
  },
  {
   "cell_type": "code",
   "execution_count": 77,
   "id": "8c9734d7",
   "metadata": {
    "scrolled": true
   },
   "outputs": [
    {
     "data": {
      "text/plain": [
       "0.033"
      ]
     },
     "execution_count": 77,
     "metadata": {},
     "output_type": "execute_result"
    }
   ],
   "source": [
    "#pseudoR2.adf\n",
    "(1-(res7.llf-res7.df_model)/res7.llnull).round(3)"
   ]
  },
  {
   "cell_type": "code",
   "execution_count": 79,
   "id": "82bb40f4",
   "metadata": {},
   "outputs": [
    {
     "name": "stdout",
     "output_type": "stream",
     "text": [
      "Optimization terminated successfully.\n",
      "         Current function value: 0.616871\n",
      "         Iterations 5\n"
     ]
    }
   ],
   "source": [
    "res9=smf.probit(formula='LFP~WA+WE+KL6+K618+CIT+UN', data=df).fit()"
   ]
  },
  {
   "cell_type": "code",
   "execution_count": 80,
   "id": "15b9628c",
   "metadata": {},
   "outputs": [
    {
     "data": {
      "text/html": [
       "<div>\n",
       "<style scoped>\n",
       "    .dataframe tbody tr th:only-of-type {\n",
       "        vertical-align: middle;\n",
       "    }\n",
       "\n",
       "    .dataframe tbody tr th {\n",
       "        vertical-align: top;\n",
       "    }\n",
       "\n",
       "    .dataframe thead th {\n",
       "        text-align: right;\n",
       "    }\n",
       "</style>\n",
       "<table border=\"1\" class=\"dataframe\">\n",
       "  <thead>\n",
       "    <tr style=\"text-align: right;\">\n",
       "      <th></th>\n",
       "      <th>WA</th>\n",
       "      <th>WE</th>\n",
       "      <th>KL6</th>\n",
       "      <th>K618</th>\n",
       "      <th>CIT</th>\n",
       "      <th>UN</th>\n",
       "    </tr>\n",
       "  </thead>\n",
       "  <tbody>\n",
       "    <tr>\n",
       "      <th>0</th>\n",
       "      <td>34</td>\n",
       "      <td>15</td>\n",
       "      <td>2</td>\n",
       "      <td>0</td>\n",
       "      <td>0</td>\n",
       "      <td>5</td>\n",
       "    </tr>\n",
       "    <tr>\n",
       "      <th>1</th>\n",
       "      <td>39</td>\n",
       "      <td>14</td>\n",
       "      <td>1</td>\n",
       "      <td>1</td>\n",
       "      <td>1</td>\n",
       "      <td>2</td>\n",
       "    </tr>\n",
       "  </tbody>\n",
       "</table>\n",
       "</div>"
      ],
      "text/plain": [
       "   WA  WE  KL6  K618  CIT  UN\n",
       "0  34  15    2     0    0   5\n",
       "1  39  14    1     1    1   2"
      ]
     },
     "execution_count": 80,
     "metadata": {},
     "output_type": "execute_result"
    }
   ],
   "source": [
    "new_df9=pd.DataFrame({'WA':[34,39], \n",
    "                      'WE':[15,14], \n",
    "                      'KL6': [2,1], \n",
    "                      'K618': [0,1], \n",
    "                      'CIT': [0,1], \n",
    "                      'UN':[5,2]})\n",
    "new_df9"
   ]
  },
  {
   "cell_type": "code",
   "execution_count": 81,
   "id": "ab2928e3",
   "metadata": {},
   "outputs": [
    {
     "data": {
      "text/plain": [
       "0    0.289\n",
       "1    0.469\n",
       "dtype: float64"
      ]
     },
     "execution_count": 81,
     "metadata": {},
     "output_type": "execute_result"
    }
   ],
   "source": [
    "res9.predict(exog=new_df9, transform=True).round(3)"
   ]
  },
  {
   "cell_type": "code",
   "execution_count": 82,
   "id": "5156fdc0",
   "metadata": {},
   "outputs": [
    {
     "name": "stdout",
     "output_type": "stream",
     "text": [
      "Optimization terminated successfully.\n",
      "         Current function value: 0.616871\n",
      "         Iterations 5\n"
     ]
    }
   ],
   "source": [
    "res10=smf.probit(formula='LFP~WA+WE+KL6+K618+CIT+UN', data=df).fit()"
   ]
  },
  {
   "cell_type": "code",
   "execution_count": 83,
   "id": "c886e58f",
   "metadata": {},
   "outputs": [
    {
     "data": {
      "text/html": [
       "<table class=\"simpletable\">\n",
       "<caption>Probit Marginal Effects</caption>\n",
       "<tr>\n",
       "  <th>Dep. Variable:</th>   <td>LFP</td>  \n",
       "</tr>\n",
       "<tr>\n",
       "  <th>Method:</th>         <td>dydx</td>  \n",
       "</tr>\n",
       "<tr>\n",
       "  <th>At:</th>            <td>overall</td>\n",
       "</tr>\n",
       "</table>\n",
       "<table class=\"simpletable\">\n",
       "<tr>\n",
       "    <th></th>      <th>dy/dx</th>    <th>std err</th>      <th>z</th>      <th>P>|z|</th>  <th>[0.025</th>    <th>0.975]</th>  \n",
       "</tr>\n",
       "<tr>\n",
       "  <th>WA</th>   <td>   -0.0131</td> <td>    0.003</td> <td>   -5.186</td> <td> 0.000</td> <td>   -0.018</td> <td>   -0.008</td>\n",
       "</tr>\n",
       "<tr>\n",
       "  <th>WE</th>   <td>    0.0438</td> <td>    0.007</td> <td>    5.847</td> <td> 0.000</td> <td>    0.029</td> <td>    0.059</td>\n",
       "</tr>\n",
       "<tr>\n",
       "  <th>KL6</th>  <td>   -0.3109</td> <td>    0.035</td> <td>   -8.983</td> <td> 0.000</td> <td>   -0.379</td> <td>   -0.243</td>\n",
       "</tr>\n",
       "<tr>\n",
       "  <th>K618</th> <td>   -0.0186</td> <td>    0.014</td> <td>   -1.318</td> <td> 0.187</td> <td>   -0.046</td> <td>    0.009</td>\n",
       "</tr>\n",
       "<tr>\n",
       "  <th>CIT</th>  <td>   -0.0261</td> <td>    0.037</td> <td>   -0.714</td> <td> 0.475</td> <td>   -0.098</td> <td>    0.046</td>\n",
       "</tr>\n",
       "<tr>\n",
       "  <th>UN</th>   <td>   -0.0039</td> <td>    0.006</td> <td>   -0.710</td> <td> 0.478</td> <td>   -0.015</td> <td>    0.007</td>\n",
       "</tr>\n",
       "</table>"
      ],
      "text/latex": [
       "\\begin{center}\n",
       "\\begin{tabular}{lc}\n",
       "\\toprule\n",
       "\\textbf{Dep. Variable:} &      LFP        \\\\\n",
       "\\textbf{Method:}        &      dydx       \\\\\n",
       "\\textbf{At:}            &    overall      \\\\\n",
       "\\bottomrule\n",
       "\\end{tabular}\n",
       "\\begin{tabular}{ccccccc}\n",
       "  \\textbf{}   & \\textbf{dy/dx} & \\textbf{std err} & \\textbf{z} & \\textbf{P$> |$z$|$} & \\textbf{[0.025} & \\textbf{0.975]}  \\\\\n",
       "\\midrule\n",
       "\\bottomrule\n",
       "\\end{tabular}\n",
       "\\begin{tabular}{lcccccc}\n",
       "\\textbf{WA}   &      -0.0131   &        0.003     &    -5.186  &         0.000        &       -0.018    &       -0.008     \\\\\n",
       "\\textbf{WE}   &       0.0438   &        0.007     &     5.847  &         0.000        &        0.029    &        0.059     \\\\\n",
       "\\textbf{KL6}  &      -0.3109   &        0.035     &    -8.983  &         0.000        &       -0.379    &       -0.243     \\\\\n",
       "\\textbf{K618} &      -0.0186   &        0.014     &    -1.318  &         0.187        &       -0.046    &        0.009     \\\\\n",
       "\\textbf{CIT}  &      -0.0261   &        0.037     &    -0.714  &         0.475        &       -0.098    &        0.046     \\\\\n",
       "\\textbf{UN}   &      -0.0039   &        0.006     &    -0.710  &         0.478        &       -0.015    &        0.007     \\\\\n",
       "\\bottomrule\n",
       "\\end{tabular}\n",
       "%\\caption{Probit Marginal Effects}\n",
       "\\end{center}"
      ],
      "text/plain": [
       "<class 'statsmodels.iolib.summary.Summary'>\n",
       "\"\"\"\n",
       "       Probit Marginal Effects       \n",
       "=====================================\n",
       "Dep. Variable:                    LFP\n",
       "Method:                          dydx\n",
       "At:                           overall\n",
       "==============================================================================\n",
       "                dy/dx    std err          z      P>|z|      [0.025      0.975]\n",
       "------------------------------------------------------------------------------\n",
       "WA            -0.0131      0.003     -5.186      0.000      -0.018      -0.008\n",
       "WE             0.0438      0.007      5.847      0.000       0.029       0.059\n",
       "KL6           -0.3109      0.035     -8.983      0.000      -0.379      -0.243\n",
       "K618          -0.0186      0.014     -1.318      0.187      -0.046       0.009\n",
       "CIT           -0.0261      0.037     -0.714      0.475      -0.098       0.046\n",
       "UN            -0.0039      0.006     -0.710      0.478      -0.015       0.007\n",
       "==============================================================================\n",
       "\"\"\""
      ]
     },
     "execution_count": 83,
     "metadata": {},
     "output_type": "execute_result"
    }
   ],
   "source": [
    "margeff_res10=res10.get_margeff(at='overall')\n",
    "margeff_res10.summary()"
   ]
  },
  {
   "cell_type": "markdown",
   "id": "b8925803",
   "metadata": {},
   "source": [
    "# Удачи нам красивым, умным, молодым :)"
   ]
  },
  {
   "cell_type": "markdown",
   "id": "f767556c",
   "metadata": {},
   "source": [
    "### 18.01.2024"
   ]
  }
 ],
 "metadata": {
  "kernelspec": {
   "display_name": "Python 3 (ipykernel)",
   "language": "python",
   "name": "python3"
  },
  "language_info": {
   "codemirror_mode": {
    "name": "ipython",
    "version": 3
   },
   "file_extension": ".py",
   "mimetype": "text/x-python",
   "name": "python",
   "nbconvert_exporter": "python",
   "pygments_lexer": "ipython3",
   "version": "3.11.5"
  }
 },
 "nbformat": 4,
 "nbformat_minor": 5
}
